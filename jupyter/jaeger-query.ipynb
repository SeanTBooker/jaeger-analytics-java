{
 "cells": [
  {
   "cell_type": "markdown",
   "metadata": {},
   "source": [
    "# Jaeger-query with trace DSL\n",
    "\n",
    "This notebook loads a trace from Jaeger query service via gRPC and runs analysis on it."
   ]
  },
  {
   "cell_type": "markdown",
   "metadata": {},
   "source": [
    "## Install library to the local maven repository\n",
    "This step is only needed if trace DSL source code has been modified.\n",
    "Open terminal in Jupyter and run the following command:\n",
    "```\n",
    "cd work && ./mvnw clean install -DskipTests\n",
    "```"
   ]
  },
  {
   "cell_type": "code",
   "execution_count": 1,
   "metadata": {},
   "outputs": [],
   "source": [
    "%%loadFromPOM\n",
    "<dependency>\n",
    "  <groupId>com.google.protobuf</groupId>\n",
    "  <artifactId>protobuf-java</artifactId>\n",
    "  <version>3.11.4</version>\n",
    "</dependency>\n",
    "<dependency>\n",
    "  <groupId>com.google.protobuf</groupId>\n",
    "  <artifactId>protobuf-java-util</artifactId>\n",
    "  <version>3.11.4</version>\n",
    "</dependency>\n",
    "<dependency>\n",
    "  <groupId>io.grpc</groupId>\n",
    "  <artifactId>grpc-protobuf</artifactId>\n",
    "  <version>1.28.0</version>\n",
    "</dependency>\n",
    "<dependency>\n",
    "  <groupId>io.grpc</groupId>\n",
    "  <artifactId>grpc-netty</artifactId>\n",
    "  <version>1.28.0</version>\n",
    "</dependency>\n",
    "<dependency>\n",
    "  <groupId>io.grpc</groupId>\n",
    "  <artifactId>grpc-stub</artifactId>\n",
    "  <version>1.28.0</version>\n",
    "</dependency>\n",
    "\n",
    "<dependency>\n",
    "    <groupId>io.prometheus</groupId>\n",
    "    <artifactId>simpleclient_httpserver</artifactId>\n",
    "    <version>0.7.0</version>\n",
    "</dependency>\n",
    "<dependency>\n",
    "    <groupId>org.apache.tinkerpop</groupId>\n",
    "    <artifactId>tinkergraph-gremlin</artifactId>\n",
    "    <version>3.4.3</version>\n",
    "</dependency>\n",
    "<dependency>\n",
    "    <groupId>log4j</groupId>\n",
    "    <artifactId>log4j</artifactId>\n",
    "    <version>1.2.17</version>\n",
    "</dependency>\n"
   ]
  },
  {
   "cell_type": "code",
   "execution_count": 2,
   "metadata": {},
   "outputs": [
    {
     "name": "stdout",
     "output_type": "stream",
     "text": [
      "class io.jaegertracing.analytics.gremlin.Keys\n"
     ]
    }
   ],
   "source": [
    "%maven io.jaegertracing:jaeger-tracedsl:0.4.0\n",
    "%maven io.jaegertracing:jaeger-proto:0.4.0\n",
    "\n",
    "System.out.println(io.jaegertracing.analytics.gremlin.Keys.class);"
   ]
  },
  {
   "cell_type": "markdown",
   "metadata": {},
   "source": [
    "## Run analysis\n",
    "It calculates maximum trace height and network latencies. It connects to Jaeger query service via gRPC."
   ]
  },
  {
   "cell_type": "code",
   "execution_count": 10,
   "metadata": {},
   "outputs": [
    {
     "name": "stdout",
     "output_type": "stream",
     "text": [
      "Error and count: {redis timeout=5}\n",
      "Trace height = 4\n",
      "Network latencies = {Name{client='frontend', server='route'}=[2.47E-4, 2.9E-4, 4.08E-4, 3.03E-4, 2.22E-4, 1.52E-4, 1.83E-4, 3.82E-4, 1.31E-4, 1.98E-4, 2.78E-4, 1.68E-4, 2.33E-4, 1.23E-4, 2.09E-4, 1.4E-4, 3.6E-4, 1.25E-4, 2.93E-4, 4.58E-4], Name{client='frontend', server='customer'}=[3.91E-4, 1.8E-4], Name{client='frontend', server='driver'}=[5.14E-4, 4.78E-4]}\n"
     ]
    },
    {
     "data": {
      "text/plain": [
       "java.io.PrintStream@1fdec01f"
      ]
     },
     "execution_count": 10,
     "metadata": {},
     "output_type": "execute_result"
    }
   ],
   "source": [
    "import com.google.protobuf.ByteString;\n",
    "import io.grpc.ManagedChannel;\n",
    "import io.grpc.ManagedChannelBuilder;\n",
    "import io.jaegertracing.analytics.*;\n",
    "import io.jaegertracing.analytics.NetworkLatency.Name;\n",
    "import io.jaegertracing.analytics.gremlin.GraphCreator;\n",
    "import io.jaegertracing.analytics.model.Converter;\n",
    "import io.jaegertracing.analytics.model.Trace;\n",
    "import io.jaegertracing.api_v2.Model.Span;\n",
    "import io.jaegertracing.api_v2.Query.GetTraceRequest;\n",
    "import io.jaegertracing.api_v2.Query.SpansResponseChunk;\n",
    "import io.jaegertracing.api_v2.QueryServiceGrpc;\n",
    "import io.jaegertracing.api_v2.Query.FindTracesRequest;\n",
    "import io.jaegertracing.api_v2.QueryServiceGrpc.QueryServiceBlockingStub;\n",
    "import io.jaegertracing.api_v2.Query.TraceQueryParameters;\n",
    "import io.opentracing.tag.Tags;\n",
    "import java.util.ArrayList;\n",
    "import java.util.Iterator;\n",
    "import java.util.List;\n",
    "import java.util.Map;\n",
    "import java.util.Set;\n",
    "import org.apache.tinkerpop.gremlin.structure.Graph;\n",
    "\n",
    "String queryHostPort = \"192.168.0.31:16686\";\n",
    "\n",
    "ManagedChannel channel;\n",
    "channel = ManagedChannelBuilder.forTarget(queryHostPort).usePlaintext().build();\n",
    "QueryServiceBlockingStub queryService = QueryServiceGrpc.newBlockingStub(channel);\n",
    "\n",
    "TraceQueryParameters query = TraceQueryParameters.newBuilder().setServiceName(\"frontend\").build();\n",
    "Iterator<SpansResponseChunk> traceProto = queryService.findTraces(\n",
    "    FindTracesRequest.newBuilder().setQuery(query).build());\n",
    "\n",
    "List<Span> spans = new ArrayList<>();\n",
    "while (traceProto.hasNext()) {\n",
    "  spans.addAll(traceProto.next().getSpansList());\n",
    "}\n",
    "Trace trace = Converter.toModel(spans);\n",
    "Graph graph = GraphCreator.create(trace);\n",
    "\n",
    "Set<io.jaegertracing.analytics.model.Span> errorSpans = NumberOfErrors.calculate(graph);\n",
    "Map<String, Integer> errorTypeAndCount = new LinkedHashMap<>();\n",
    "for (io.jaegertracing.analytics.model.Span errorSpan: errorSpans) {\n",
    "  for (io.jaegertracing.analytics.model.Span.Log log: errorSpan.logs) {\n",
    "    String err = log.fields.get(Tags.ERROR.getKey());\n",
    "    if (err != null) {\n",
    "      Integer count = errorTypeAndCount.get(err);\n",
    "      if (count == null) {\n",
    "        count = 0;\n",
    "      }\n",
    "      errorTypeAndCount.put(err, ++count);\n",
    "    }\n",
    "  }\n",
    "}\n",
    "System.out.printf(\"Error and count: %s\\n\", errorTypeAndCount);\n",
    "\n",
    "int height = TraceHeight.calculate(graph);\n",
    "Map<Name, Set<Double>> networkLatencies = NetworkLatency.calculate(graph);\n",
    "System.out.printf(\"Trace height = %d\\n\", height);\n",
    "System.out.printf(\"Network latencies = %s\\n\", networkLatencies);\n"
   ]
  },
  {
   "cell_type": "markdown",
   "metadata": {},
   "source": [
    "## Write your own data analysis with Trace DSL and Apache Gremlin"
   ]
  },
  {
   "cell_type": "code",
   "execution_count": 31,
   "metadata": {},
   "outputs": [],
   "source": [
    "// Are two spans connected?\n",
    "TraceTraversal<Vertex, Vertex> traversal = graph.traversal(TraceTraversalSource.class)\n",
    "        .hasName(\"HTTP GET: /customer\")\n",
    "        .repeat(__.out())\n",
    "        .until(__.hasName(\"SQL SELECT\"));\n",
    "\n",
    "traversal.forEachRemaining(v -> Util.printVertex(v));\n"
   ]
  },
  {
   "cell_type": "code",
   "execution_count": null,
   "metadata": {},
   "outputs": [],
   "source": []
  }
 ],
 "metadata": {
  "kernelspec": {
   "display_name": "Java",
   "language": "java",
   "name": "java"
  },
  "language_info": {
   "codemirror_mode": "java",
   "file_extension": ".jshell",
   "mimetype": "text/x-java-source",
   "name": "Java",
   "pygments_lexer": "java",
   "version": "11.0.6+10"
  },
  "pycharm": {
   "stem_cell": {
    "cell_type": "raw",
    "metadata": {
     "collapsed": false
    },
    "source": []
   }
  }
 },
 "nbformat": 4,
 "nbformat_minor": 2
}
