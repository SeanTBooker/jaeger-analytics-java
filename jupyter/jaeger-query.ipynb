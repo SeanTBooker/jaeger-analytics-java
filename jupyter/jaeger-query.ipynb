{
 "cells": [
  {
   "cell_type": "markdown",
   "metadata": {},
   "source": [
    "# Jaeger-query with trace DSL\n",
    "\n",
    "This notebook loads a trace from Jaeger query service via gRPC and runs analysis on it."
   ]
  },
  {
   "cell_type": "markdown",
   "metadata": {},
   "source": [
    "## Install library to the local maven repository\n",
    "This step is only needed if trace DSL source code has been modified.\n",
    "Open terminal in Jupyter and run the following command:\n",
    "```\n",
    "cd work && ./mvnw clean install -DskipTests\n",
    "```"
   ]
  },
  {
   "cell_type": "code",
   "execution_count": 2,
   "metadata": {},
   "outputs": [],
   "source": [
    "%%loadFromPOM\n",
    "<dependency>\n",
    "  <groupId>com.google.protobuf</groupId>\n",
    "  <artifactId>protobuf-java</artifactId>\n",
    "  <version>3.11.4</version>\n",
    "</dependency>\n",
    "<dependency>\n",
    "  <groupId>com.google.protobuf</groupId>\n",
    "  <artifactId>protobuf-java-util</artifactId>\n",
    "  <version>3.11.4</version>\n",
    "</dependency>\n",
    "<dependency>\n",
    "  <groupId>io.grpc</groupId>\n",
    "  <artifactId>grpc-protobuf</artifactId>\n",
    "  <version>1.28.0</version>\n",
    "</dependency>\n",
    "<dependency>\n",
    "  <groupId>io.grpc</groupId>\n",
    "  <artifactId>grpc-netty</artifactId>\n",
    "  <version>1.28.0</version>\n",
    "</dependency>\n",
    "<dependency>\n",
    "  <groupId>io.grpc</groupId>\n",
    "  <artifactId>grpc-stub</artifactId>\n",
    "  <version>1.28.0</version>\n",
    "</dependency>\n",
    "\n",
    "<dependency>\n",
    "    <groupId>io.prometheus</groupId>\n",
    "    <artifactId>simpleclient_httpserver</artifactId>\n",
    "    <version>0.7.0</version>\n",
    "</dependency>\n",
    "<dependency>\n",
    "    <groupId>org.apache.tinkerpop</groupId>\n",
    "    <artifactId>tinkergraph-gremlin</artifactId>\n",
    "    <version>3.4.3</version>\n",
    "</dependency>\n",
    "<dependency>\n",
    "    <groupId>log4j</groupId>\n",
    "    <artifactId>log4j</artifactId>\n",
    "    <version>1.2.17</version>\n",
    "</dependency>\n"
   ]
  },
  {
   "cell_type": "code",
   "execution_count": 9,
   "metadata": {},
   "outputs": [
    {
     "name": "stdout",
     "output_type": "stream",
     "text": [
      "class io.jaegertracing.analytics.gremlin.Keys\n"
     ]
    }
   ],
   "source": [
    "%maven io.jaegertracing:jaeger-tracedsl:0.3.0\n",
    "%maven io.jaegertracing:jaeger-proto:0.3.0\n",
    "\n",
    "System.out.println(io.jaegertracing.analytics.gremlin.Keys.class);"
   ]
  },
  {
   "cell_type": "markdown",
   "metadata": {},
   "source": [
    "## Run analysis\n",
    "It calculates maximum trace height and network latencies. It connects to Jaeger query service via gRPC."
   ]
  },
  {
   "cell_type": "code",
   "execution_count": 38,
   "metadata": {},
   "outputs": [
    {
     "name": "stdout",
     "output_type": "stream",
     "text": [
      "Trace height = 4\n",
      "Network latencies = {Name{client='frontend', server='route'}=[2.05E-4, 6.64E-4, 2.0E-4, 1.56E-4, 1.82E-4, 1.99E-4, 6.42E-4, 1.55E-4, 5.54E-4, 5.77E-4], Name{client='frontend', server='customer'}=[6.04E-4], Name{client='frontend', server='driver'}=[4.66E-4]}\n"
     ]
    },
    {
     "data": {
      "text/plain": [
       "java.io.PrintStream@23aef5d1"
      ]
     },
     "execution_count": 38,
     "metadata": {},
     "output_type": "execute_result"
    }
   ],
   "source": [
    "import com.google.protobuf.ByteString;\n",
    "import io.grpc.ManagedChannel;\n",
    "import io.grpc.ManagedChannelBuilder;\n",
    "import io.jaegertracing.analytics.NetworkLatency.Name;\n",
    "import io.jaegertracing.analytics.gremlin.GraphCreator;\n",
    "import io.jaegertracing.analytics.model.Converter;\n",
    "import io.jaegertracing.analytics.model.Trace;\n",
    "import io.jaegertracing.api_v2.Model.Span;\n",
    "import io.jaegertracing.api_v2.Query.GetTraceRequest;\n",
    "import io.jaegertracing.api_v2.Query.SpansResponseChunk;\n",
    "import io.jaegertracing.api_v2.QueryServiceGrpc;\n",
    "import io.jaegertracing.api_v2.QueryServiceGrpc.QueryServiceBlockingStub;\n",
    "import java.util.ArrayList;\n",
    "import java.util.Iterator;\n",
    "import java.util.List;\n",
    "import java.util.Map;\n",
    "import java.util.Set;\n",
    "import org.apache.tinkerpop.gremlin.structure.Graph;\n",
    "\n",
    "String queryHostPort = \"192.168.0.31:16686\";\n",
    "String traceIdStr = \"5a8c9a8c69b0fd4f\";\n",
    "\n",
    "ManagedChannel channel;\n",
    "channel = ManagedChannelBuilder.forTarget(queryHostPort).usePlaintext().build();\n",
    "QueryServiceBlockingStub queryService = QueryServiceGrpc.newBlockingStub(channel);\n",
    "\n",
    "ByteString traceId = Converter.toProtoId(traceIdStr);\n",
    "Iterator<SpansResponseChunk> traceProto = queryService.getTrace(\n",
    "    GetTraceRequest.newBuilder().setTraceId(traceId).build());\n",
    "\n",
    "List<Span> spans = new ArrayList<>();\n",
    "while (traceProto.hasNext()) {\n",
    "  spans.addAll(traceProto.next().getSpansList());\n",
    "}\n",
    "Trace trace = Converter.toModel(spans);\n",
    "Graph graph = GraphCreator.create(trace);\n",
    "\n",
    "int height = TraceHeight.calculate(graph);\n",
    "Map<Name, Set<Double>> networkLatencies = NetworkLatency.calculate(graph);\n",
    "\n",
    "System.out.printf(\"Trace height = %d\\n\", height);\n",
    "System.out.printf(\"Network latencies = %s\\n\", networkLatencies);"
   ]
  },
  {
   "cell_type": "markdown",
   "metadata": {},
   "source": [
    "## Write your own data analysis with Trace DSL and Apache Gremlin"
   ]
  },
  {
   "cell_type": "code",
   "execution_count": 31,
   "metadata": {},
   "outputs": [],
   "source": [
    "// Are two spans connected?\n",
    "TraceTraversal<Vertex, Vertex> traversal = graph.traversal(TraceTraversalSource.class)\n",
    "        .hasName(\"HTTP GET: /customer\")\n",
    "        .repeat(__.out())\n",
    "        .until(__.hasName(\"SQL SELECT\"));\n",
    "\n",
    "traversal.forEachRemaining(v -> Util.printVertex(v));\n"
   ]
  },
  {
   "cell_type": "code",
   "execution_count": null,
   "metadata": {},
   "outputs": [],
   "source": []
  }
 ],
 "metadata": {
  "kernelspec": {
   "display_name": "Java",
   "language": "java",
   "name": "java"
  },
  "language_info": {
   "codemirror_mode": "java",
   "file_extension": ".jshell",
   "mimetype": "text/x-java-source",
   "name": "Java",
   "pygments_lexer": "java",
   "version": "11.0.6+10"
  },
  "pycharm": {
   "stem_cell": {
    "cell_type": "raw",
    "metadata": {
     "collapsed": false
    },
    "source": []
   }
  }
 },
 "nbformat": 4,
 "nbformat_minor": 2
}
