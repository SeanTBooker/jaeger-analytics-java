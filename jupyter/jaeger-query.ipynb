{
 "cells": [
  {
   "cell_type": "markdown",
   "metadata": {},
   "source": [
    "# Jaeger-query with trace DSL\n",
    "\n",
    "This notebook loads a trace from Jaeger query service via gRPC and runs analysis on it."
   ]
  },
  {
   "cell_type": "markdown",
   "metadata": {},
   "source": [
    "## Install library to the local maven repository\n",
    "This step is only needed if trace DSL source code has been modified.\n",
    "Open terminal in Jupyter and run the following command:\n",
    "```\n",
    "cd work && ./mvnw clean install -DskipTests\n",
    "```"
   ]
  },
  {
   "cell_type": "code",
   "execution_count": 1,
   "metadata": {},
   "outputs": [],
   "source": [
    "%%loadFromPOM\n",
    "<dependency>\n",
    "  <groupId>com.google.protobuf</groupId>\n",
    "  <artifactId>protobuf-java</artifactId>\n",
    "  <version>3.11.4</version>\n",
    "</dependency>\n",
    "<dependency>\n",
    "  <groupId>com.google.protobuf</groupId>\n",
    "  <artifactId>protobuf-java-util</artifactId>\n",
    "  <version>3.11.4</version>\n",
    "</dependency>\n",
    "<dependency>\n",
    "  <groupId>io.grpc</groupId>\n",
    "  <artifactId>grpc-protobuf</artifactId>\n",
    "  <version>1.28.0</version>\n",
    "</dependency>\n",
    "<dependency>\n",
    "  <groupId>io.grpc</groupId>\n",
    "  <artifactId>grpc-netty</artifactId>\n",
    "  <version>1.28.0</version>\n",
    "</dependency>\n",
    "<dependency>\n",
    "  <groupId>io.grpc</groupId>\n",
    "  <artifactId>grpc-stub</artifactId>\n",
    "  <version>1.28.0</version>\n",
    "</dependency>\n",
    "\n",
    "<dependency>\n",
    "    <groupId>io.prometheus</groupId>\n",
    "    <artifactId>simpleclient_httpserver</artifactId>\n",
    "    <version>0.7.0</version>\n",
    "</dependency>\n",
    "<dependency>\n",
    "    <groupId>org.apache.tinkerpop</groupId>\n",
    "    <artifactId>tinkergraph-gremlin</artifactId>\n",
    "    <version>3.4.3</version>\n",
    "</dependency>\n",
    "<dependency>\n",
    "    <groupId>log4j</groupId>\n",
    "    <artifactId>log4j</artifactId>\n",
    "    <version>1.2.17</version>\n",
    "</dependency>\n"
   ]
  },
  {
   "cell_type": "code",
   "execution_count": 2,
   "metadata": {},
   "outputs": [
    {
     "name": "stdout",
     "output_type": "stream",
     "text": [
      "class io.jaegertracing.analytics.gremlin.Keys\n"
     ]
    }
   ],
   "source": [
    "%maven io.jaegertracing:jaeger-tracedsl:0.2.1-SNAPSHOT\n",
    "%maven io.jaegertracing:jaeger-proto:0.2.1-SNAPSHOT\n",
    "\n",
    "System.out.println(io.jaegertracing.analytics.gremlin.Keys.class);"
   ]
  },
  {
   "cell_type": "markdown",
   "metadata": {},
   "source": [
    "## Run analysis\n",
    "It calculates maximum trace height and network latencies. It connects to Jaeger query service via gRPC."
   ]
  },
  {
   "cell_type": "code",
   "execution_count": 56,
   "metadata": {},
   "outputs": [
    {
     "name": "stdout",
     "output_type": "stream",
     "text": [
      "Trace height = 3\n",
      "Network latencies = {Name{client='frontend', server='customer'}=[0.001021]}\n",
      "\n"
     ]
    }
   ],
   "source": [
    "import org.apache.tinkerpop.gremlin.structure.Graph;\n",
    "import org.apache.tinkerpop.gremlin.structure.Vertex;\n",
    "import io.jaegertracing.analytics.gremlin.*;\n",
    "import io.jaegertracing.analytics.model.*;\n",
    "import io.jaegertracing.analytics.*;\n",
    "import io.jaegertracing.analytics.NetworkLatency.*;\n",
    "import io.grpc.ManagedChannel;\n",
    "import io.grpc.ManagedChannelBuilder;\n",
    "import io.jaegertracing.api_v2.Query.*;\n",
    "import java.util.*;\n",
    "import com.google.protobuf.ByteString;\n",
    "import io.jaegertracing.api_v2.QueryServiceGrpc.QueryServiceBlockingStub;\n",
    "import io.jaegertracing.api_v2.QueryServiceGrpc;\n",
    "\n",
    "String queryHostPort = \"jaeger:16686\";\n",
    "String traceIdStr = \"2cb1f0c274c3b4a5\";\n",
    "\n",
    "ManagedChannel channel = ManagedChannelBuilder.forTarget(queryHostPort).usePlaintext().build();\n",
    "QueryServiceBlockingStub queryService = QueryServiceGrpc.newBlockingStub(channel);\n",
    "\n",
    "ByteString traceId = Converter.toProtoId(traceIdStr);\n",
    "Iterator<SpansResponseChunk> traceProto = queryService.getTrace(GetTraceRequest.newBuilder().setTraceId(traceId).build());\n",
    "\n",
    "Trace trace = Converter.toModel(traceProto.next().getSpansList());\n",
    "Graph graph = GraphCreator.create(trace);\n",
    "\n",
    "int height = TraceHeight.calculate(graph);\n",
    "Map<Name, Set<Double>> networkLatencies = NetworkLatency.calculate(graph);\n",
    "\n",
    "System.out.printf(\"Trace height = %d\\n\", height);\n",
    "System.out.printf(\"Network latencies = %s\\n\", networkLatencies);\n",
    "System.out.println()"
   ]
  },
  {
   "cell_type": "markdown",
   "metadata": {},
   "source": [
    "## Write your own data analysis with Trace DSL and Apache Gremlin"
   ]
  },
  {
   "cell_type": "code",
   "execution_count": 55,
   "metadata": {},
   "outputs": [
    {
     "name": "stdout",
     "output_type": "stream",
     "text": [
      "SQL SELECT[2cb1f0c274c3b4a5:219d2ad95fda3bdf], tags = [traceId, request, operationName, serviceName, parentId, spanId, duration, internal.span.format, span.kind, peer.service, sql.query, startTime, span]\n"
     ]
    }
   ],
   "source": [
    "// Are two spans connected?\n",
    "TraceTraversal<Vertex, Vertex> traversal = graph.traversal(TraceTraversalSource.class)\n",
    "        .hasName(\"HTTP GET: /customer\")\n",
    "        .repeat(__.out())\n",
    "        .until(__.hasName(\"SQL SELECT\"));\n",
    "\n",
    "traversal.forEachRemaining(v -> Util.printVertex(v));\n"
   ]
  }
 ],
 "metadata": {
  "kernelspec": {
   "display_name": "Java",
   "language": "java",
   "name": "java"
  },
  "language_info": {
   "codemirror_mode": "java",
   "file_extension": ".jshell",
   "mimetype": "text/x-java-source",
   "name": "Java",
   "pygments_lexer": "java",
   "version": "11.0.6+10"
  },
  "pycharm": {
   "stem_cell": {
    "cell_type": "raw",
    "metadata": {
     "collapsed": false
    },
    "source": []
   }
  }
 },
 "nbformat": 4,
 "nbformat_minor": 2
}
